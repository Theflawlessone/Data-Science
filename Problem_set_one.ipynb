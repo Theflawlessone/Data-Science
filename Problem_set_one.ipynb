{
  "nbformat": 4,
  "nbformat_minor": 0,
  "metadata": {
    "colab": {
      "provenance": [],
      "authorship_tag": "ABX9TyOilT25fkEaZv9SfOYJUXZ1",
      "include_colab_link": true
    },
    "kernelspec": {
      "name": "python3",
      "display_name": "Python 3"
    },
    "language_info": {
      "name": "python"
    }
  },
  "cells": [
    {
      "cell_type": "markdown",
      "metadata": {
        "id": "view-in-github",
        "colab_type": "text"
      },
      "source": [
        "<a href=\"https://colab.research.google.com/github/Theflawlessone/Data-Science/blob/main/Problem_set_one.ipynb\" target=\"_parent\"><img src=\"https://colab.research.google.com/assets/colab-badge.svg\" alt=\"Open In Colab\"/></a>"
      ]
    },
    {
      "cell_type": "code",
      "execution_count": 103,
      "metadata": {
        "id": "HNK72SgfByZw"
      },
      "outputs": [],
      "source": [
        "# Load MNIST Montage"
      ]
    },
    {
      "cell_type": "code",
      "source": [
        "%%capture\n",
        "import numpy as np\n",
        "import matplotlib.pyplot as plt\n",
        "import torch\n",
        "from torchvision import datasets\n",
        "from skimage.util import montage\n",
        "!pip install wandb\n",
        "import wandb as wb\n",
        "from skimage.io import imread"
      ],
      "metadata": {
        "id": "q8jurGx3B0y1"
      },
      "execution_count": 104,
      "outputs": []
    },
    {
      "cell_type": "code",
      "metadata": {
        "id": "tRpmxWj7pl2f"
      },
      "source": [
        "def GPU(data):\n",
        "    return torch.tensor(data, requires_grad=True, dtype=torch.float, device=torch.device('cuda'))\n",
        "\n",
        "def GPU_data(data):\n",
        "    return torch.tensor(data, requires_grad=False, dtype=torch.float, device=torch.device('cuda'))"
      ],
      "execution_count": 105,
      "outputs": []
    },
    {
      "cell_type": "code",
      "metadata": {
        "id": "1Wb_wkDZpl2f"
      },
      "source": [
        "def plot(x):\n",
        "    if type(x) == torch.Tensor :\n",
        "        x = x.cpu().detach().numpy()\n",
        "\n",
        "    fig, ax = plt.subplots()\n",
        "    im = ax.imshow(x, cmap = 'gray')\n",
        "    ax.axis('off')\n",
        "    fig.set_size_inches(7, 7)\n",
        "    plt.show()\n",
        ""
      ],
      "execution_count": 106,
      "outputs": []
    },
    {
      "cell_type": "code",
      "metadata": {
        "id": "49-KePVupl2g"
      },
      "source": [
        "def montage_plot(x):\n",
        "    x = np.pad(x, pad_width=((0, 0), (1, 1), (1, 1)), mode='constant', constant_values=0)\n",
        "    plot(montage(x))\n"
      ],
      "execution_count": 107,
      "outputs": []
    },
    {
      "cell_type": "code",
      "metadata": {
        "id": "4YOADKq7c7bz"
      },
      "source": [
        "# #MNIST\n",
        "train_set = datasets.MNIST('./data', train=True, download=True)\n",
        "test_set = datasets.MNIST('./data', train=False, download=True)\n",
        "\n",
        "#KMNIST\n",
        "#train_set = datasets.KMNIST('./data', train=True, download=True)\n",
        "#test_set = datasets.KMNIST('./data', train=False, download=True)\n",
        "\n",
        "#Fashion MNIST\n",
        "# train_set = datasets.FashionMNIST('./data', train=True, download=True)\n",
        "# test_set = datasets.FashionMNIST('./data', train=False, download=True)"
      ],
      "execution_count": 108,
      "outputs": []
    },
    {
      "cell_type": "code",
      "metadata": {
        "id": "gg-B6om4pl2g"
      },
      "source": [
        "X = train_set.data.numpy()\n",
        "X_test = test_set.data.numpy()\n",
        "Y = train_set.targets.numpy()\n",
        "Y_test = test_set.targets.numpy()\n",
        "\n",
        "X = X[:,None,:,:]/255\n",
        "X_test = X_test[:,None,:,:]/255"
      ],
      "execution_count": 109,
      "outputs": []
    },
    {
      "cell_type": "code",
      "metadata": {
        "colab": {
          "base_uri": "https://localhost:8080/"
        },
        "outputId": "c0509bba-c72c-44b6-b87e-3285679faaaa",
        "id": "1vBIL7dhpl2h"
      },
      "source": [
        "X.shape"
      ],
      "execution_count": 110,
      "outputs": [
        {
          "output_type": "execute_result",
          "data": {
            "text/plain": [
              "(60000, 1, 28, 28)"
            ]
          },
          "metadata": {},
          "execution_count": 110
        }
      ]
    },
    {
      "cell_type": "code",
      "source": [
        "x = X[3,0,:,:]"
      ],
      "metadata": {
        "id": "H31cIz0hejJj"
      },
      "execution_count": 111,
      "outputs": []
    },
    {
      "cell_type": "code",
      "source": [
        "plt.imshow(x)"
      ],
      "metadata": {
        "colab": {
          "base_uri": "https://localhost:8080/",
          "height": 447
        },
        "id": "5Eyl78RJev6j",
        "outputId": "38675fa8-8dd7-4e1a-fe53-fa02942e5221"
      },
      "execution_count": 112,
      "outputs": [
        {
          "output_type": "execute_result",
          "data": {
            "text/plain": [
              "<matplotlib.image.AxesImage at 0x7cd718e6f550>"
            ]
          },
          "metadata": {},
          "execution_count": 112
        },
        {
          "output_type": "display_data",
          "data": {
            "text/plain": [
              "<Figure size 640x480 with 1 Axes>"
            ],
            "image/png": "[encoded data removed]"
          },
          "metadata": {}
        }
      ]
    },
    {
      "cell_type": "code",
      "source": [
        "x = x.reshape(x.shape[0]*x.shape[1],1)"
      ],
      "metadata": {
        "id": "MVzBMr3ODJbV"
      },
      "execution_count": 113,
      "outputs": []
    },
    {
      "cell_type": "code",
      "source": [
        "x.shape"
      ],
      "metadata": {
        "colab": {
          "base_uri": "https://localhost:8080/"
        },
        "id": "jN4wHqbpDkox",
        "outputId": "836e0094-d92f-4ba7-b450-30f698946196"
      },
      "execution_count": 114,
      "outputs": [
        {
          "output_type": "execute_result",
          "data": {
            "text/plain": [
              "(784, 1)"
            ]
          },
          "metadata": {},
          "execution_count": 114
        }
      ]
    },
    {
      "cell_type": "code",
      "source": [
        "x = x.reshape(28,28)"
      ],
      "metadata": {
        "id": "yiRk_VSSD_vz"
      },
      "execution_count": 115,
      "outputs": []
    },
    {
      "cell_type": "code",
      "metadata": {
        "colab": {
          "base_uri": "https://localhost:8080/",
          "height": 576
        },
        "outputId": "272e6b35-23c7-4f67-a67a-3adbf05a21c0",
        "id": "o-E8Pm-_pl2i"
      },
      "source": [
        "montage_plot(X[125:150,0,:,:])"
      ],
      "execution_count": 116,
      "outputs": [
        {
          "output_type": "display_data",
          "data": {
            "text/plain": [
              "<Figure size 700x700 with 1 Axes>"
            ],
            "image/png": "[encoded data removed]"
          },
          "metadata": {}
        }
      ]
    },
    {
      "cell_type": "code",
      "source": [
        "# Run random y=mx"
      ],
      "metadata": {
        "id": "QVeQuRqQCdBl"
      },
      "execution_count": 117,
      "outputs": []
    },
    {
      "cell_type": "code",
      "source": [
        "import torch\n",
        "import numpy as np\n",
        "import torchvision\n",
        "import torchvision.datasets as datasets\n",
        "import matplotlib.pyplot as plt"
      ],
      "metadata": {
        "id": "X3TWsxFre9G5"
      },
      "execution_count": 118,
      "outputs": []
    },
    {
      "cell_type": "code",
      "source": [
        "def plot(x,title=None):\n",
        "    if type(x) == torch.Tensor :\n",
        "        x = x.cpu().detach().numpy()\n",
        "\n",
        "    fig, ax = plt.subplots()\n",
        "    im = ax.imshow(x, cmap = 'gray')\n",
        "    ax.axis('off')\n",
        "    fig.set_size_inches(7, 7)\n",
        "    plt.title(title)\n",
        "    plt.show()"
      ],
      "metadata": {
        "id": "GCpFIiRFnhYA"
      },
      "execution_count": 119,
      "outputs": []
    },
    {
      "cell_type": "code",
      "source": [
        "##MNIST\n",
        "# train_set = datasets.MNIST('./data', train=True, download=True)\n",
        "# test_set = datasets.MNIST('./data', train=False, download=True)\n",
        "\n",
        "#KMNIST\n",
        "train_set = datasets.KMNIST('./data', train=True, download=True)\n",
        "test_set = datasets.KMNIST('./data', train=False, download=True)\n",
        "\n",
        "# Fashion MNIST\n",
        "#train_set = datasets.FashionMNIST('./data', train=True, download=True)\n",
        "#test_set = datasets.FashionMNIST('./data', train=False, download=True)"
      ],
      "metadata": {
        "id": "ZSjTh1VbfLhd"
      },
      "execution_count": 120,
      "outputs": []
    },
    {
      "cell_type": "code",
      "source": [
        "X = train_set.data.numpy()\n",
        "X_test = test_set.data.numpy()\n",
        "Y = train_set.targets.numpy()\n",
        "Y_test = test_set.targets.numpy()\n",
        "\n",
        "X = X[:,None,:,:]/255\n",
        "X_test = X_test[:,None,:,:]/255"
      ],
      "metadata": {
        "id": "ou4RzKGbfOO2"
      },
      "execution_count": 121,
      "outputs": []
    },
    {
      "cell_type": "code",
      "source": [
        "X.shape"
      ],
      "metadata": {
        "colab": {
          "base_uri": "https://localhost:8080/"
        },
        "id": "nQqpKb35fZow",
        "outputId": "f4cc479f-f256-43d8-f416-c13bf9b94cf8"
      },
      "execution_count": 122,
      "outputs": [
        {
          "output_type": "execute_result",
          "data": {
            "text/plain": [
              "(60000, 1, 28, 28)"
            ]
          },
          "metadata": {},
          "execution_count": 122
        }
      ]
    },
    {
      "cell_type": "code",
      "source": [
        "\n",
        "for i in range(10):\n",
        "    plt.imshow(X[i,0,:,:],cmap='gray')\n",
        "    plt.title(str(Y[i]))\n",
        "    plt.show()"
      ],
      "metadata": {
        "id": "KS0DeV8rf-yw",
        "colab": {
          "base_uri": "https://localhost:8080/",
          "height": 1000
        },
        "outputId": "0c7fa268-ab04-4d63-db0d-e39f1ab9f9b5"
      },
      "execution_count": 123,
      "outputs": [
        {
          "output_type": "display_data",
          "data": {
            "text/plain": [
              "<Figure size 640x480 with 1 Axes>"
            ],
            "image/png": "[encoded data removed]"
          },
          "metadata": {}
        },
        {
          "output_type": "display_data",
          "data": {
            "text/plain": [
              "<Figure size 640x480 with 1 Axes>"
            ],
            "image/png": "[encoded data removed]"
          },
          "metadata": {}
        },
        {
          "output_type": "display_data",
          "data": {
            "text/plain": [
              "<Figure size 640x480 with 1 Axes>"
            ],
            "image/png": "[encoded data removed]"
          },
          "metadata": {}
        },
        {
          "output_type": "display_data",
          "data": {
            "text/plain": [
              "<Figure size 640x480 with 1 Axes>"
            ],
            "image/png": "[encoded data removed]"
          },
          "metadata": {}
        },
        {
          "output_type": "display_data",
          "data": {
            "text/plain": [
              "<Figure size 640x480 with 1 Axes>"
            ],
            "image/png": "[encoded data removed]"
          },
          "metadata": {}
        },
        {
          "output_type": "display_data",
          "data": {
            "text/plain": [
              "<Figure size 640x480 with 1 Axes>"
            ],
            "image/png": "[encoded data removed]"
          },
          "metadata": {}
        },
        {
          "output_type": "display_data",
          "data": {
            "text/plain": [
              "<Figure size 640x480 with 1 Axes>"
            ],
            "image/png": "[encoded data removed]"
          },
          "metadata": {}
        },
        {
          "output_type": "display_data",
          "data": {
            "text/plain": [
              "<Figure size 640x480 with 1 Axes>"
            ],
            "image/png": "[encoded data removed]"
          },
          "metadata": {}
        },
        {
          "output_type": "display_data",
          "data": {
            "text/plain": [
              "<Figure size 640x480 with 1 Axes>"
            ],
            "image/png": "[encoded data removed]"
          },
          "metadata": {}
        },
        {
          "output_type": "display_data",
          "data": {
            "text/plain": [
              "<Figure size 640x480 with 1 Axes>"
            ],
            "image/png": "[encoded data removed]"
          },
          "metadata": {}
        }
      ]
    },
    {
      "cell_type": "code",
      "source": [
        "X[0,0,:,:].shape"
      ],
      "metadata": {
        "colab": {
          "base_uri": "https://localhost:8080/"
        },
        "id": "yoVzBNsRgt_m",
        "outputId": "55018206-b984-43fa-89a1-94b79313ccf3"
      },
      "execution_count": 124,
      "outputs": [
        {
          "output_type": "execute_result",
          "data": {
            "text/plain": [
              "(28, 28)"
            ]
          },
          "metadata": {},
          "execution_count": 124
        }
      ]
    },
    {
      "cell_type": "code",
      "source": [
        "x = X[0,0,:,:].flatten()"
      ],
      "metadata": {
        "id": "Hu1AhSTFhCEj"
      },
      "execution_count": 125,
      "outputs": []
    },
    {
      "cell_type": "code",
      "source": [
        "x.shape"
      ],
      "metadata": {
        "colab": {
          "base_uri": "https://localhost:8080/"
        },
        "id": "KXsLqoTxhFCC",
        "outputId": "edf3cd7b-d260-4220-dba3-1993710cb656"
      },
      "execution_count": 126,
      "outputs": [
        {
          "output_type": "execute_result",
          "data": {
            "text/plain": [
              "(784,)"
            ]
          },
          "metadata": {},
          "execution_count": 126
        }
      ]
    },
    {
      "cell_type": "code",
      "source": [
        "plt.plot(x,'.')"
      ],
      "metadata": {
        "colab": {
          "base_uri": "https://localhost:8080/",
          "height": 447
        },
        "id": "UeiHBEjjhJqi",
        "outputId": "00caad27-6562-465a-8e54-f7b0d21a4e4b"
      },
      "execution_count": 127,
      "outputs": [
        {
          "output_type": "execute_result",
          "data": {
            "text/plain": [
              "[<matplotlib.lines.Line2D at 0x7cd718ca5450>]"
            ]
          },
          "metadata": {},
          "execution_count": 127
        },
        {
          "output_type": "display_data",
          "data": {
            "text/plain": [
              "<Figure size 640x480 with 1 Axes>"
            ],
            "image/png": "[encoded data removed]"
          },
          "metadata": {}
        }
      ]
    },
    {
      "cell_type": "code",
      "source": [
        "x.shape"
      ],
      "metadata": {
        "colab": {
          "base_uri": "https://localhost:8080/"
        },
        "id": "BOHY0I2xhj7N",
        "outputId": "dcf2dc85-62ea-4830-f629-167a64f56b8a"
      },
      "execution_count": 128,
      "outputs": [
        {
          "output_type": "execute_result",
          "data": {
            "text/plain": [
              "(784,)"
            ]
          },
          "metadata": {},
          "execution_count": 128
        }
      ]
    },
    {
      "cell_type": "code",
      "source": [
        "x = x[:,None]"
      ],
      "metadata": {
        "id": "3fP4Jwl4hbCM"
      },
      "execution_count": 129,
      "outputs": []
    },
    {
      "cell_type": "code",
      "source": [
        "m = np.random.standard_normal((10,784))"
      ],
      "metadata": {
        "id": "W5yrXHqdhla4"
      },
      "execution_count": 130,
      "outputs": []
    },
    {
      "cell_type": "code",
      "source": [
        "m.shape,x.shape"
      ],
      "metadata": {
        "colab": {
          "base_uri": "https://localhost:8080/"
        },
        "id": "p-EpGKJWihPn",
        "outputId": "fcee0bec-4ceb-4800-89f8-b42492cfbc76"
      },
      "execution_count": 131,
      "outputs": [
        {
          "output_type": "execute_result",
          "data": {
            "text/plain": [
              "((10, 784), (784, 1))"
            ]
          },
          "metadata": {},
          "execution_count": 131
        }
      ]
    },
    {
      "cell_type": "code",
      "source": [
        "y = m@x # @ mean matmul"
      ],
      "metadata": {
        "id": "Ey55572Kipzy"
      },
      "execution_count": 132,
      "outputs": []
    },
    {
      "cell_type": "code",
      "source": [
        "y = np.matmul(m,x)"
      ],
      "metadata": {
        "id": "zswWV2_txFTC"
      },
      "execution_count": 133,
      "outputs": []
    },
    {
      "cell_type": "code",
      "source": [
        "y.shape"
      ],
      "metadata": {
        "colab": {
          "base_uri": "https://localhost:8080/"
        },
        "id": "oqeYB-OIxM83",
        "outputId": "92527c91-06ec-4518-d6b4-ea68d183333b"
      },
      "execution_count": 134,
      "outputs": [
        {
          "output_type": "execute_result",
          "data": {
            "text/plain": [
              "(10, 1)"
            ]
          },
          "metadata": {},
          "execution_count": 134
        }
      ]
    },
    {
      "cell_type": "code",
      "source": [
        "plt.plot(y,'.')"
      ],
      "metadata": {
        "colab": {
          "base_uri": "https://localhost:8080/",
          "height": 447
        },
        "id": "v32LN4GKiyFK",
        "outputId": "08752bfa-8b8d-4677-ad26-2fc779e18ed7"
      },
      "execution_count": 135,
      "outputs": [
        {
          "output_type": "execute_result",
          "data": {
            "text/plain": [
              "[<matplotlib.lines.Line2D at 0x7cd71899d120>]"
            ]
          },
          "metadata": {},
          "execution_count": 135
        },
        {
          "output_type": "display_data",
          "data": {
            "text/plain": [
              "<Figure size 640x480 with 1 Axes>"
            ],
            "image/png": "[encoded data removed]"
          },
          "metadata": {}
        }
      ]
    },
    {
      "cell_type": "code",
      "source": [
        "X.shape[0]"
      ],
      "metadata": {
        "colab": {
          "base_uri": "https://localhost:8080/"
        },
        "id": "8fSU88ALjxcG",
        "outputId": "92b6a541-db10-4176-c5de-993acaf3ef60"
      },
      "execution_count": 136,
      "outputs": [
        {
          "output_type": "execute_result",
          "data": {
            "text/plain": [
              "60000"
            ]
          },
          "metadata": {},
          "execution_count": 136
        }
      ]
    },
    {
      "cell_type": "code",
      "source": [
        "X.shape[2]*X.shape[3]"
      ],
      "metadata": {
        "colab": {
          "base_uri": "https://localhost:8080/"
        },
        "id": "9whZv4ctj0Gp",
        "outputId": "0bbc1e26-b0d0-42c5-d40c-f3ae8e03da0b"
      },
      "execution_count": 137,
      "outputs": [
        {
          "output_type": "execute_result",
          "data": {
            "text/plain": [
              "784"
            ]
          },
          "metadata": {},
          "execution_count": 137
        }
      ]
    },
    {
      "cell_type": "code",
      "source": [
        "X = np.reshape(X, (X.shape[0],X.shape[2]*X.shape[3]))\n",
        "X_test = np.reshape(X_test, (X_test.shape[0],X_test.shape[2]*X_test.shape[3]))"
      ],
      "metadata": {
        "id": "HdE8XvU_jYgU"
      },
      "execution_count": 138,
      "outputs": []
    },
    {
      "cell_type": "code",
      "source": [
        "X.shape"
      ],
      "metadata": {
        "colab": {
          "base_uri": "https://localhost:8080/"
        },
        "id": "_-sFrW0gj716",
        "outputId": "25709447-50f9-4e31-ebe2-4a99297cff6b"
      },
      "execution_count": 139,
      "outputs": [
        {
          "output_type": "execute_result",
          "data": {
            "text/plain": [
              "(60000, 784)"
            ]
          },
          "metadata": {},
          "execution_count": 139
        }
      ]
    },
    {
      "cell_type": "code",
      "source": [
        "x = X[0:2,:]"
      ],
      "metadata": {
        "id": "J697Nvj8kHmS"
      },
      "execution_count": 140,
      "outputs": []
    },
    {
      "cell_type": "code",
      "source": [
        "x.shape"
      ],
      "metadata": {
        "colab": {
          "base_uri": "https://localhost:8080/"
        },
        "id": "YctgmjB6kNer",
        "outputId": "24af6dc2-7f40-4734-e8b7-72e1649271c9"
      },
      "execution_count": 141,
      "outputs": [
        {
          "output_type": "execute_result",
          "data": {
            "text/plain": [
              "(2, 784)"
            ]
          },
          "metadata": {},
          "execution_count": 141
        }
      ]
    },
    {
      "cell_type": "code",
      "source": [
        "x = x.T"
      ],
      "metadata": {
        "id": "XpFHb_pPkOnt"
      },
      "execution_count": 142,
      "outputs": []
    },
    {
      "cell_type": "code",
      "source": [
        "m.shape,x.shape"
      ],
      "metadata": {
        "colab": {
          "base_uri": "https://localhost:8080/"
        },
        "id": "H7GfpLKakZKv",
        "outputId": "7e7c8f18-aa0d-49af-c910-a5cb1c79ef1b"
      },
      "execution_count": 143,
      "outputs": [
        {
          "output_type": "execute_result",
          "data": {
            "text/plain": [
              "((10, 784), (784, 2))"
            ]
          },
          "metadata": {},
          "execution_count": 143
        }
      ]
    },
    {
      "cell_type": "code",
      "source": [
        "y = m@x"
      ],
      "metadata": {
        "id": "DIM1EUNkkbKi"
      },
      "execution_count": 144,
      "outputs": []
    },
    {
      "cell_type": "code",
      "source": [
        "y"
      ],
      "metadata": {
        "id": "32oVbJOTkr1u",
        "colab": {
          "base_uri": "https://localhost:8080/"
        },
        "outputId": "1601430e-462a-4f98-90fd-d74190b99220"
      },
      "execution_count": 145,
      "outputs": [
        {
          "output_type": "execute_result",
          "data": {
            "text/plain": [
              "array([[  7.65279258,   8.62714847],\n",
              "       [ 17.94787493,  16.93027949],\n",
              "       [ -6.22087453,   2.3530188 ],\n",
              "       [ 13.59003557, -12.30166378],\n",
              "       [  5.94051646, -12.22716631],\n",
              "       [ 10.02517898, -13.96414767],\n",
              "       [  4.86690352,  19.79176816],\n",
              "       [  2.31906367, -17.69047134],\n",
              "       [ 22.98208946,  -1.32879165],\n",
              "       [ 14.28743762,   0.50960566]])"
            ]
          },
          "metadata": {},
          "execution_count": 145
        }
      ]
    },
    {
      "cell_type": "code",
      "source": [
        "np.max(y, axis=0)"
      ],
      "metadata": {
        "colab": {
          "base_uri": "https://localhost:8080/"
        },
        "id": "L2-3GuXNkubM",
        "outputId": "adfa7bc6-aacf-464c-850f-9342e2bf8c93"
      },
      "execution_count": 146,
      "outputs": [
        {
          "output_type": "execute_result",
          "data": {
            "text/plain": [
              "array([22.98208946, 19.79176816])"
            ]
          },
          "metadata": {},
          "execution_count": 146
        }
      ]
    },
    {
      "cell_type": "code",
      "source": [
        "y = np.argmax(y, axis=0)"
      ],
      "metadata": {
        "id": "4XvZy4P7kxMD"
      },
      "execution_count": 147,
      "outputs": []
    },
    {
      "cell_type": "code",
      "source": [
        "Y[0:2]"
      ],
      "metadata": {
        "colab": {
          "base_uri": "https://localhost:8080/"
        },
        "id": "pCAnw3q8k_61",
        "outputId": "71335033-5872-4b3a-9561-99824c602861"
      },
      "execution_count": 148,
      "outputs": [
        {
          "output_type": "execute_result",
          "data": {
            "text/plain": [
              "array([8, 7])"
            ]
          },
          "metadata": {},
          "execution_count": 148
        }
      ]
    },
    {
      "cell_type": "code",
      "source": [
        "y_ans = Y[0:2]"
      ],
      "metadata": {
        "id": "YfBj_0mvlHAI"
      },
      "execution_count": 149,
      "outputs": []
    },
    {
      "cell_type": "code",
      "source": [
        "y_ans"
      ],
      "metadata": {
        "colab": {
          "base_uri": "https://localhost:8080/"
        },
        "id": "lUfVEqDLlT5L",
        "outputId": "367b839c-ce9d-425b-e82c-a8b9273c6ffc"
      },
      "execution_count": 150,
      "outputs": [
        {
          "output_type": "execute_result",
          "data": {
            "text/plain": [
              "array([8, 7])"
            ]
          },
          "metadata": {},
          "execution_count": 150
        }
      ]
    },
    {
      "cell_type": "code",
      "source": [
        "y"
      ],
      "metadata": {
        "colab": {
          "base_uri": "https://localhost:8080/"
        },
        "id": "8zmHStmjla45",
        "outputId": "12d2dd81-9f40-4ad7-c913-94e40929c7d0"
      },
      "execution_count": 151,
      "outputs": [
        {
          "output_type": "execute_result",
          "data": {
            "text/plain": [
              "array([8, 6])"
            ]
          },
          "metadata": {},
          "execution_count": 151
        }
      ]
    },
    {
      "cell_type": "code",
      "source": [
        "np.sum((y == y_ans))/len(y)"
      ],
      "metadata": {
        "colab": {
          "base_uri": "https://localhost:8080/"
        },
        "id": "ra5-je6slblR",
        "outputId": "86d55985-4754-4bae-8b14-6e0b99261a0a"
      },
      "execution_count": 152,
      "outputs": [
        {
          "output_type": "execute_result",
          "data": {
            "text/plain": [
              "0.5"
            ]
          },
          "metadata": {},
          "execution_count": 152
        }
      ]
    },
    {
      "cell_type": "code",
      "source": [
        "X = X.T"
      ],
      "metadata": {
        "id": "gCDDEnP6ltXe"
      },
      "execution_count": 153,
      "outputs": []
    },
    {
      "cell_type": "code",
      "source": [
        "X_test = X_test.T"
      ],
      "metadata": {
        "id": "YZGyGTgnPzKS"
      },
      "execution_count": 154,
      "outputs": []
    },
    {
      "cell_type": "code",
      "source": [
        "m.shape,X.shape"
      ],
      "metadata": {
        "colab": {
          "base_uri": "https://localhost:8080/"
        },
        "id": "lhVq3XMUlz-1",
        "outputId": "a5fcbd1a-2563-48e9-e0eb-9850df464c24"
      },
      "execution_count": 155,
      "outputs": [
        {
          "output_type": "execute_result",
          "data": {
            "text/plain": [
              "((10, 784), (784, 60000))"
            ]
          },
          "metadata": {},
          "execution_count": 155
        }
      ]
    },
    {
      "cell_type": "code",
      "source": [
        "y = m@X"
      ],
      "metadata": {
        "id": "f2KajRqMl0kn"
      },
      "execution_count": 156,
      "outputs": []
    },
    {
      "cell_type": "code",
      "source": [
        "y = np.argmax(y, axis=0)"
      ],
      "metadata": {
        "id": "kHcUiPggmAwF"
      },
      "execution_count": 157,
      "outputs": []
    },
    {
      "cell_type": "code",
      "source": [
        "y_ans = Y"
      ],
      "metadata": {
        "id": "xih9q1sRmEND"
      },
      "execution_count": 158,
      "outputs": []
    },
    {
      "cell_type": "code",
      "source": [
        "acc = np.sum(y == y_ans)/len(Y)"
      ],
      "metadata": {
        "id": "hcRN60bFmG0J"
      },
      "execution_count": 159,
      "outputs": []
    },
    {
      "cell_type": "code",
      "source": [
        "acc"
      ],
      "metadata": {
        "colab": {
          "base_uri": "https://localhost:8080/"
        },
        "id": "JQfnHgHzmIfe",
        "outputId": "adcb7b66-5feb-498d-99ff-5d530e740cfb"
      },
      "execution_count": 160,
      "outputs": [
        {
          "output_type": "execute_result",
          "data": {
            "text/plain": [
              "0.11575"
            ]
          },
          "metadata": {},
          "execution_count": 160
        }
      ]
    },
    {
      "cell_type": "code",
      "source": [
        "m = np.random.standard_normal((10,784))\n",
        "\n",
        "y = m@X\n",
        "\n",
        "y = np.argmax(y, axis=0)\n",
        "\n",
        "acc = np.sum(y == y_ans)/len(Y)\n",
        "\n",
        "print(acc)"
      ],
      "metadata": {
        "colab": {
          "base_uri": "https://localhost:8080/"
        },
        "id": "jHSB1ZCJmc3c",
        "outputId": "d21ecb07-78de-4238-d588-43fddbcf1b90"
      },
      "execution_count": 161,
      "outputs": [
        {
          "output_type": "stream",
          "name": "stdout",
          "text": [
            "0.10095\n"
          ]
        }
      ]
    },
    {
      "cell_type": "code",
      "source": [
        "m_best = 0\n",
        "acc_best = 0\n",
        "\n",
        "for i in range(1000):\n",
        "\n",
        "    m = 0.1*np.random.standard_normal((10,784))\n",
        "\n",
        "    y = m@X\n",
        "\n",
        "    y = np.argmax(y, axis=0)\n",
        "\n",
        "    acc = np.sum(y == y_ans)/len(Y)\n",
        "\n",
        "\n",
        "    if acc > acc_best:\n",
        "        print(acc)\n",
        "        m_best = m\n",
        "        acc_best = acc"
      ],
      "metadata": {
        "id": "j5OMhhdzmnib",
        "colab": {
          "base_uri": "https://localhost:8080/"
        },
        "outputId": "8da0f287-5d9e-4c71-b06b-2caea779f457"
      },
      "execution_count": 162,
      "outputs": [
        {
          "output_type": "stream",
          "name": "stdout",
          "text": [
            "0.12101666666666666\n",
            "0.14621666666666666\n",
            "0.15638333333333335\n",
            "0.1709\n"
          ]
        }
      ]
    },
    {
      "cell_type": "code",
      "source": [
        "def GPU(data):\n",
        "    return torch.tensor(data, requires_grad=True, dtype=torch.float, device=torch.device('cuda'))\n",
        "\n",
        "def GPU_data(data):\n",
        "    return torch.tensor(data, requires_grad=False, dtype=torch.float, device=torch.device('cuda'))"
      ],
      "metadata": {
        "id": "Z5ijFhoNUwiX"
      },
      "execution_count": 163,
      "outputs": []
    },
    {
      "cell_type": "code",
      "source": [
        "X = GPU_data(X)\n",
        "Y = GPU_data(Y)\n",
        "X_test = GPU_data(X_test)\n",
        "Y_test = GPU_data(Y_test)"
      ],
      "metadata": {
        "id": "albma-mgUzZ_",
        "colab": {
          "base_uri": "https://localhost:8080/",
          "height": 373
        },
        "outputId": "78ea46ea-297e-4830-aae0-cad03ebff792"
      },
      "execution_count": 164,
      "outputs": [
        {
          "output_type": "error",
          "ename": "RuntimeError",
          "evalue": "ignored",
          "traceback": [
            "\u001b[0;31m---------------------------------------------------------------------------\u001b[0m",
            "\u001b[0;31mRuntimeError\u001b[0m                              Traceback (most recent call last)",
            "\u001b[0;32m<ipython-input-164-875fa2d6262b>\u001b[0m in \u001b[0;36m<cell line: 1>\u001b[0;34m()\u001b[0m\n\u001b[0;32m----> 1\u001b[0;31m \u001b[0mX\u001b[0m \u001b[0;34m=\u001b[0m \u001b[0mGPU_data\u001b[0m\u001b[0;34m(\u001b[0m\u001b[0mX\u001b[0m\u001b[0;34m)\u001b[0m\u001b[0;34m\u001b[0m\u001b[0;34m\u001b[0m\u001b[0m\n\u001b[0m\u001b[1;32m      2\u001b[0m \u001b[0mY\u001b[0m \u001b[0;34m=\u001b[0m \u001b[0mGPU_data\u001b[0m\u001b[0;34m(\u001b[0m\u001b[0mY\u001b[0m\u001b[0;34m)\u001b[0m\u001b[0;34m\u001b[0m\u001b[0;34m\u001b[0m\u001b[0m\n\u001b[1;32m      3\u001b[0m \u001b[0mX_test\u001b[0m \u001b[0;34m=\u001b[0m \u001b[0mGPU_data\u001b[0m\u001b[0;34m(\u001b[0m\u001b[0mX_test\u001b[0m\u001b[0;34m)\u001b[0m\u001b[0;34m\u001b[0m\u001b[0;34m\u001b[0m\u001b[0m\n\u001b[1;32m      4\u001b[0m \u001b[0mY_test\u001b[0m \u001b[0;34m=\u001b[0m \u001b[0mGPU_data\u001b[0m\u001b[0;34m(\u001b[0m\u001b[0mY_test\u001b[0m\u001b[0;34m)\u001b[0m\u001b[0;34m\u001b[0m\u001b[0;34m\u001b[0m\u001b[0m\n",
            "\u001b[0;32m<ipython-input-163-bd0a16a94a05>\u001b[0m in \u001b[0;36mGPU_data\u001b[0;34m(data)\u001b[0m\n\u001b[1;32m      3\u001b[0m \u001b[0;34m\u001b[0m\u001b[0m\n\u001b[1;32m      4\u001b[0m \u001b[0;32mdef\u001b[0m \u001b[0mGPU_data\u001b[0m\u001b[0;34m(\u001b[0m\u001b[0mdata\u001b[0m\u001b[0;34m)\u001b[0m\u001b[0;34m:\u001b[0m\u001b[0;34m\u001b[0m\u001b[0;34m\u001b[0m\u001b[0m\n\u001b[0;32m----> 5\u001b[0;31m     \u001b[0;32mreturn\u001b[0m \u001b[0mtorch\u001b[0m\u001b[0;34m.\u001b[0m\u001b[0mtensor\u001b[0m\u001b[0;34m(\u001b[0m\u001b[0mdata\u001b[0m\u001b[0;34m,\u001b[0m \u001b[0mrequires_grad\u001b[0m\u001b[0;34m=\u001b[0m\u001b[0;32mFalse\u001b[0m\u001b[0;34m,\u001b[0m \u001b[0mdtype\u001b[0m\u001b[0;34m=\u001b[0m\u001b[0mtorch\u001b[0m\u001b[0;34m.\u001b[0m\u001b[0mfloat\u001b[0m\u001b[0;34m,\u001b[0m \u001b[0mdevice\u001b[0m\u001b[0;34m=\u001b[0m\u001b[0mtorch\u001b[0m\u001b[0;34m.\u001b[0m\u001b[0mdevice\u001b[0m\u001b[0;34m(\u001b[0m\u001b[0;34m'cuda'\u001b[0m\u001b[0;34m)\u001b[0m\u001b[0;34m)\u001b[0m\u001b[0;34m\u001b[0m\u001b[0;34m\u001b[0m\u001b[0m\n\u001b[0m",
            "\u001b[0;32m/usr/local/lib/python3.10/dist-packages/torch/cuda/__init__.py\u001b[0m in \u001b[0;36m_lazy_init\u001b[0;34m()\u001b[0m\n\u001b[1;32m    245\u001b[0m         \u001b[0;32mif\u001b[0m \u001b[0;34m'CUDA_MODULE_LOADING'\u001b[0m \u001b[0;32mnot\u001b[0m \u001b[0;32min\u001b[0m \u001b[0mos\u001b[0m\u001b[0;34m.\u001b[0m\u001b[0menviron\u001b[0m\u001b[0;34m:\u001b[0m\u001b[0;34m\u001b[0m\u001b[0;34m\u001b[0m\u001b[0m\n\u001b[1;32m    246\u001b[0m             \u001b[0mos\u001b[0m\u001b[0;34m.\u001b[0m\u001b[0menviron\u001b[0m\u001b[0;34m[\u001b[0m\u001b[0;34m'CUDA_MODULE_LOADING'\u001b[0m\u001b[0;34m]\u001b[0m \u001b[0;34m=\u001b[0m \u001b[0;34m'LAZY'\u001b[0m\u001b[0;34m\u001b[0m\u001b[0;34m\u001b[0m\u001b[0m\n\u001b[0;32m--> 247\u001b[0;31m         \u001b[0mtorch\u001b[0m\u001b[0;34m.\u001b[0m\u001b[0m_C\u001b[0m\u001b[0;34m.\u001b[0m\u001b[0m_cuda_init\u001b[0m\u001b[0;34m(\u001b[0m\u001b[0;34m)\u001b[0m\u001b[0;34m\u001b[0m\u001b[0;34m\u001b[0m\u001b[0m\n\u001b[0m\u001b[1;32m    248\u001b[0m         \u001b[0;31m# Some of the queued calls may reentrantly call _lazy_init();\u001b[0m\u001b[0;34m\u001b[0m\u001b[0;34m\u001b[0m\u001b[0m\n\u001b[1;32m    249\u001b[0m         \u001b[0;31m# we need to just return without initializing in that case.\u001b[0m\u001b[0;34m\u001b[0m\u001b[0;34m\u001b[0m\u001b[0m\n",
            "\u001b[0;31mRuntimeError\u001b[0m: Found no NVIDIA driver on your system. Please check that you have an NVIDIA GPU and installed a driver from http://www.nvidia.com/Download/index.aspx"
          ]
        }
      ]
    },
    {
      "cell_type": "code",
      "source": [
        "# def scale(img):\n",
        "#     img_min = torch.min(img)\n",
        "#     img_max = torch.max(img)\n",
        "#     scaled = (img - img_min) / (img_max - img_min) * 1.0\n",
        "#     return scaled"
      ],
      "metadata": {
        "id": "p6RdNfK_Tbbt"
      },
      "execution_count": null,
      "outputs": []
    },
    {
      "cell_type": "code",
      "source": [
        "# X = scale(X)\n",
        "# X_test = scale(X_test)"
      ],
      "metadata": {
        "id": "wra63qB6bMD1"
      },
      "execution_count": null,
      "outputs": []
    },
    {
      "cell_type": "code",
      "source": [
        "m_best = 0\n",
        "acc_best = 0\n",
        "\n",
        "for i in range(100000):\n",
        "\n",
        "    step = 0.0000000001\n",
        "\n",
        "    m_random = GPU_data(np.random.randn(10,784))\n",
        "\n",
        "    m = m_best  + step*m_random\n",
        "\n",
        "    y = m@X\n",
        "\n",
        "    y = torch.argmax(y, axis=0)\n",
        "\n",
        "    acc = ((y == Y)).sum()/len(Y)\n",
        "\n",
        "\n",
        "    if acc > acc_best:\n",
        "        print(acc.item())\n",
        "        m_best = m\n",
        "        acc_best = acc"
      ],
      "metadata": {
        "id": "UljqXpWHmutW"
      },
      "execution_count": null,
      "outputs": []
    },
    {
      "cell_type": "code",
      "source": [
        "m_random = GPU_data(np.random.randn(10,784))"
      ],
      "metadata": {
        "id": "ULZewyg2Xtve"
      },
      "execution_count": null,
      "outputs": []
    },
    {
      "cell_type": "code",
      "source": [
        "m_random.shape"
      ],
      "metadata": {
        "id": "oOmkBIGYXuln"
      },
      "execution_count": null,
      "outputs": []
    },
    {
      "cell_type": "code",
      "source": [
        "plot(m_random[0,:].reshape(28,28))"
      ],
      "metadata": {
        "id": "jy_pT_s6XwgG"
      },
      "execution_count": null,
      "outputs": []
    },
    {
      "cell_type": "code",
      "source": [
        "## Accuracy at least 75%"
      ],
      "metadata": {
        "id": "VT-t1iCLFv5q"
      },
      "execution_count": null,
      "outputs": []
    },
    {
      "cell_type": "code",
      "source": [
        "M = GPU_data(np.random.random((100,10,784)))\n",
        "M.shape,X.shape\n",
        "(M@X).shape\n",
        "(torch.argmax((M@X), axis=1) == Y).shape\n",
        "Y.shape\n",
        "y = torch.argmax((M@X), axis=1)\n",
        "score = ((y == Y).sum(1)/len(Y))\n",
        "s = torch.argsort(score,descending=True)\n",
        "score[s]"
      ],
      "metadata": {
        "id": "od7E6ft6zWRG"
      },
      "execution_count": null,
      "outputs": []
    },
    {
      "cell_type": "code",
      "source": [
        "N = 100\n",
        "M = GPU_data(np.random.rand(N,10,784))\n",
        "\n",
        "m_best = 0\n",
        "acc_best = 0\n",
        "\n",
        "step = 0.00000000001\n",
        "\n",
        "for i in range(1000000):\n",
        "\n",
        "    y = torch.argmax((M@X), axis=1)\n",
        "    score = ((y == Y).sum(1)/len(Y))\n",
        "    s = torch.argsort(score,descending=True)\n",
        "    M = M[s]\n",
        "\n",
        "    M[50:100] = 0\n",
        "    M[0:50] = M[0]\n",
        "    M[1:] += step*GPU_data(np.random.rand(N-1,10,784))\n",
        "\n",
        "\n",
        "    acc = score[s][0].item()\n",
        "\n",
        "    if acc > acc_best:\n",
        "\n",
        "        m_best = M[0]\n",
        "        acc_best = acc\n",
        "\n",
        "        print(i,acc)"
      ],
      "metadata": {
        "id": "2aoKblkrqTX0"
      },
      "execution_count": null,
      "outputs": []
    },
    {
      "cell_type": "code",
      "source": [
        "m_best = 0\n",
        "acc_best = 0\n",
        "\n",
        "for i in range(100000):\n",
        "\n",
        "    step = 0.0000000001\n",
        "\n",
        "    m_random = GPU_data(np.random.randn(10,784))\n",
        "\n",
        "    m = m_best  + step*m_random\n",
        "\n",
        "    y = m@X\n",
        "\n",
        "    y = torch.argmax(y, axis=0)\n",
        "\n",
        "    acc = ((y == Y)).sum()/len(Y)\n",
        "\n",
        "\n",
        "    if acc > acc_best:\n",
        "        print(acc.item())\n",
        "        m_best = m\n",
        "        acc_best = acc"
      ],
      "metadata": {
        "id": "oLnkZgwiF2Z2"
      },
      "execution_count": null,
      "outputs": []
    },
    {
      "cell_type": "code",
      "source": [
        "y_test = torch.argmax((M@X_test), axis=1)\n",
        "score = ((y_test == Y_test).sum(1)/len(Y_test))\n",
        "s = torch.argsort(score,descending=True)\n",
        "acc_test = score[s][0].item()"
      ],
      "metadata": {
        "id": "b-ZbXHH_gMth"
      },
      "execution_count": null,
      "outputs": []
    },
    {
      "cell_type": "code",
      "source": [
        "import torch\n",
        "import torch.nn as nn\n",
        "import torch.optim as optim\n",
        "\n",
        "# Assuming you have X and Y defined somewhere\n",
        "\n",
        "# Initialize the best accuracy and best model\n",
        "m_best = nn.Linear(784, 10)  # Assuming a linear model\n",
        "acc_best = 0.0\n",
        "\n",
        "# Define the loss function and optimizer\n",
        "criterion = nn.CrossEntropyLoss()\n",
        "optimizer = optim.SGD(m_best.parameters(), lr=0.01)  # Adjust the learning rate as needed\n",
        "\n",
        "for i in range(100000):\n",
        "    # Generate random updates for the model\n",
        "    m_random = nn.Linear(784, 10)\n",
        "    with torch.no_grad():\n",
        "        m_random.weight.data.normal_(0, 1e-10)\n",
        "\n",
        "    # Update the model parameters\n",
        "    for param in m_best.parameters():\n",
        "        param.data.add_(m_random.weight.data * 1e-10)\n",
        "\n",
        "    # Forward pass\n",
        "    y = m_best(X)\n",
        "\n",
        "    # Compute accuracy\n",
        "    _, y_pred = torch.max(y, 1)\n",
        "    correct = (y_pred == Y).sum().item()\n",
        "    acc = correct / len(Y)\n",
        "\n",
        "    # Compute the loss\n",
        "    loss = criterion(y, Y)\n",
        "\n",
        "    # Backpropagation and optimization step\n",
        "    optimizer.zero_grad()\n",
        "    loss.backward()\n",
        "    optimizer.step()\n",
        "\n",
        "    if acc > acc_best:\n",
        "        print(f\"Epoch {i+1}, Accuracy: {acc}\")\n",
        "        acc_best = acc\n"
      ],
      "metadata": {
        "id": "XFuvu4yKQ2ku"
      },
      "execution_count": null,
      "outputs": []
    },
    {
      "cell_type": "code",
      "source": [
        "import torch\n",
        "import torch.nn as nn\n",
        "import torch.optim as optim\n",
        "import numpy as np\n",
        "\n",
        "# Assuming you have X and Y defined somewhere\n",
        "# You also need to define GPU_data and set up GPU if available.\n",
        "\n",
        "# Set up GPU if available\n",
        "device = torch.device(\"cuda\" if torch.cuda.is_available() else \"cpu\")\n",
        "\n",
        "# Initialize the best accuracy and best model\n",
        "m_best = nn.Linear(784, 10).to(device)  # Assuming a linear model\n",
        "acc_best = 0.0\n",
        "\n",
        "# Define the loss function and optimizer\n",
        "criterion = nn.CrossEntropyLoss()\n",
        "optimizer = optim.SGD(m_best.parameters(), lr=0.01)  # Adjust the learning rate as needed\n",
        "\n",
        "for i in range(100000):\n",
        "    # Generate random updates for the model\n",
        "    m_random = nn.Linear(784, 10).to(device)\n",
        "    with torch.no_grad():\n",
        "        m_random.weight.data.normal_(0, 1e-10)\n",
        "\n",
        "    # Update the model parameters\n",
        "    for param in m_best.parameters():\n",
        "        param.data.add_(m_random.weight.data * 1e-10)\n",
        "\n",
        "    # Move data to GPU if available\n",
        "    X, Y = X.to(device), Y.to(device)\n",
        "\n",
        "    # Forward pass\n",
        "    y = m_best(X)\n",
        "\n",
        "    # Compute accuracy\n",
        "    _, y_pred = torch.max(y, 1)\n",
        "    correct = (y_pred == Y).sum().item()\n",
        "    acc = correct / len(Y)\n",
        "\n",
        "    # Compute the loss\n",
        "    loss = criterion(y, Y)\n",
        "\n",
        "    # Backpropagation and optimization step\n",
        "    optimizer.zero_grad()\n",
        "    loss.backward()\n",
        "    optimizer.step()\n",
        "\n",
        "    if acc > acc_best:\n",
        "        print(f\"Epoch {i+1}, Accuracy: {acc}\")\n",
        "        acc_best = acc\n"
      ],
      "metadata": {
        "id": "AGXUX0tRSE-J"
      },
      "execution_count": null,
      "outputs": []
    }
  ]
}